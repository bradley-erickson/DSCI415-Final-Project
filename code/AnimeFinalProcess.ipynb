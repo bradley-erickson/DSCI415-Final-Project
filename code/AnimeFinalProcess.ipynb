{
 "cells": [
  {
   "cell_type": "code",
   "execution_count": null,
   "metadata": {},
   "outputs": [],
   "source": [
    "import numpy as np \n",
    "import pandas as pd \n",
    "import matplotlib.pyplot as plt\n",
    "from mpl_toolkits.mplot3d import Axes3D\n",
    "import time"
   ]
  },
  {
   "cell_type": "code",
   "execution_count": null,
   "metadata": {},
   "outputs": [],
   "source": [
    "anime = pd.read_csv(r'C:\\Users\\Will\\Desktop\\DSCI415\\FinalProject\\anime.csv')\n",
    "anime.rename(columns = {'name':'anime_name', 'genre':'anime_genre', 'type':'anime_type', 'episodes':'num_episodes', 'rating':'anime_rating','members':'num_members'}, inplace = True) \n",
    "anime.head()"
   ]
  },
  {
   "cell_type": "code",
   "execution_count": null,
   "metadata": {},
   "outputs": [],
   "source": [
    "user = pd.read_csv(r'C:\\Users\\Will\\Desktop\\DSCI415\\FinalProject\\rating.csv')\n",
    "user.rename(columns = {'rating':'user_rating'}, inplace = True) \n",
    "user.head(10)"
   ]
  },
  {
   "cell_type": "code",
   "execution_count": null,
   "metadata": {},
   "outputs": [],
   "source": [
    "#userRated = user[user.user_id < 30000]\n",
    "#userRated.head(10)"
   ]
  },
  {
   "cell_type": "code",
   "execution_count": null,
   "metadata": {},
   "outputs": [],
   "source": [
    "userRated = user[user.user_rating != -1]\n",
    "userRated.head(10)"
   ]
  },
  {
   "cell_type": "code",
   "execution_count": null,
   "metadata": {},
   "outputs": [],
   "source": [
    "userRated['good_user_rating'] = np.where(userRated['user_rating']>=7, 1, 0)\n",
    "userRated.head(10)"
   ]
  },
  {
   "cell_type": "code",
   "execution_count": null,
   "metadata": {},
   "outputs": [],
   "source": [
    "meanUserRated = userRated.groupby(['user_id']).mean().reset_index()\n",
    "meanUserRated['mean_user_rating'] = meanUserRated['user_rating']\n",
    "meanUserRated.drop(['anime_id','user_rating','good_user_rating'],axis=1, inplace=True)\n",
    "meanUserRated.head(10)"
   ]
  },
  {
   "cell_type": "code",
   "execution_count": null,
   "metadata": {},
   "outputs": [],
   "source": [
    "numUserRated = userRated.groupby(['user_id']).count()\n",
    "numUserRated['num_user_rated'] = numUserRated['user_rating']\n",
    "numUserRated.drop(['anime_id','user_rating','good_user_rating'],axis=1, inplace=True)\n",
    "numUserRated.head(10)"
   ]
  },
  {
   "cell_type": "code",
   "execution_count": null,
   "metadata": {},
   "outputs": [],
   "source": [
    "numAnimeRatings = user.groupby(['anime_id']).count()\n",
    "numAnimeRatings['num_anime_ratings'] = numAnimeRatings['user_rating']\n",
    "numAnimeRatings.drop(['user_id','user_rating'],axis=1, inplace=True)\n",
    "numAnimeRatings.head(10)"
   ]
  },
  {
   "cell_type": "code",
   "execution_count": null,
   "metadata": {},
   "outputs": [],
   "source": [
    "numUserRatedGood = userRated.groupby(['user_id']).sum()\n",
    "numUserRatedGood['num_user_rated_good'] = numUserRatedGood['good_user_rating']\n",
    "numUserRatedGood.drop(['anime_id','user_rating','good_user_rating'],axis=1, inplace=True)\n",
    "numUserRatedGood.head(10)"
   ]
  },
  {
   "cell_type": "code",
   "execution_count": null,
   "metadata": {},
   "outputs": [],
   "source": [
    "numGoodAnimeRating = userRated.groupby(['anime_id']).sum()\n",
    "numGoodAnimeRating['num_good_anime_ratings'] = numGoodAnimeRating['good_user_rating']\n",
    "numGoodAnimeRating.drop(['user_id','user_rating','good_user_rating'],axis=1, inplace=True)\n",
    "numGoodAnimeRating.head(10)"
   ]
  },
  {
   "cell_type": "code",
   "execution_count": null,
   "metadata": {},
   "outputs": [],
   "source": [
    "numUserWatched = user.groupby(['user_id']).count()\n",
    "numUserWatched['num_user_watched'] = numUserWatched['user_rating']\n",
    "numUserWatched.drop(['anime_id','user_rating'],axis=1, inplace=True)\n",
    "numUserWatched.head(10)"
   ]
  },
  {
   "cell_type": "code",
   "execution_count": null,
   "metadata": {},
   "outputs": [],
   "source": [
    "animeRated = pd.merge(anime, numAnimeRatings, on=['anime_id','anime_id'])\n",
    "animeRated = pd.merge(animeRated, numGoodAnimeRating, on=['anime_id','anime_id'])\n",
    "animeRated.head(10)"
   ]
  },
  {
   "cell_type": "code",
   "execution_count": null,
   "metadata": {},
   "outputs": [],
   "source": [
    "animeRated = animeRated[animeRated['num_good_anime_ratings']>= 10]\n",
    "animeRated.head(10)"
   ]
  },
  {
   "cell_type": "code",
   "execution_count": null,
   "metadata": {},
   "outputs": [],
   "source": [
    "userRated = pd.merge(userRated,meanUserRated, on=['user_id','user_id'])\n",
    "userRated = pd.merge(userRated,numUserRated, on=['user_id','user_id'])\n",
    "userRated = pd.merge(userRated,numUserRatedGood, on=['user_id','user_id'])\n",
    "userRated = pd.merge(userRated,numUserWatched, on=['user_id','user_id'])\n",
    "userRated['perc_user_rated'] = userRated['num_user_rated']/userRated['num_user_watched']\n",
    "userRated['perc_user_rated_good'] = userRated['num_user_rated_good']/userRated['num_user_rated']\n",
    "userRated.head(10)"
   ]
  },
  {
   "cell_type": "code",
   "execution_count": null,
   "metadata": {},
   "outputs": [],
   "source": [
    "userRatedMerged = pd.merge(animeRated,userRated,on=['anime_id','anime_id'])\n",
    "userRatedMerged.head(10)"
   ]
  },
  {
   "cell_type": "code",
   "execution_count": null,
   "metadata": {},
   "outputs": [],
   "source": [
    "userRatedMerged = userRatedMerged[userRatedMerged['anime_type']=='TV']\n",
    "userRatedMerged.head(10)"
   ]
  },
  {
   "cell_type": "code",
   "execution_count": null,
   "metadata": {},
   "outputs": [],
   "source": [
    "userRatedMerged = userRatedMerged[userRatedMerged['num_user_rated_good']>=10]\n",
    "userRatedMerged.head(10)"
   ]
  },
  {
   "cell_type": "code",
   "execution_count": null,
   "metadata": {},
   "outputs": [],
   "source": [
    "userRatedMerged = userRatedMerged[userRatedMerged['num_good_anime_ratings']>=10]\n",
    "userRatedMerged.head(10)"
   ]
  },
  {
   "cell_type": "code",
   "execution_count": null,
   "metadata": {},
   "outputs": [],
   "source": [
    "userRatedMerged.to_csv(r'C:\\Users\\Will\\Desktop\\DSCI415\\FinalProject\\userRatedMerged.csv')\n",
    "print('File Saved! :)')"
   ]
  },
  {
   "cell_type": "code",
   "execution_count": null,
   "metadata": {},
   "outputs": [],
   "source": [
    "animeRatingMatrix = userRatedMerged.pivot_table(index=['user_id'], columns=['anime_name'], values='user_rating')\n",
    "animeRatingMatrix.head()"
   ]
  },
  {
   "cell_type": "code",
   "execution_count": null,
   "metadata": {},
   "outputs": [],
   "source": [
    "flatAnimeRatingMatrix = pd.DataFrame(animeRatingMatrix.to_records())\n",
    "flatAnimeRatingMatrix.head()"
   ]
  },
  {
   "cell_type": "code",
   "execution_count": null,
   "metadata": {},
   "outputs": [],
   "source": [
    "flatAnimeRatingMatrix.to_csv(r'C:\\Users\\Will\\Desktop\\DSCI415\\FinalProject\\TVRatings.csv')\n",
    "print('File Saved! :)')"
   ]
  }
 ],
 "metadata": {
  "kernelspec": {
   "display_name": "Python 3",
   "language": "python",
   "name": "python3"
  },
  "language_info": {
   "codemirror_mode": {
    "name": "ipython",
    "version": 3
   },
   "file_extension": ".py",
   "mimetype": "text/x-python",
   "name": "python",
   "nbconvert_exporter": "python",
   "pygments_lexer": "ipython3",
   "version": "3.6.4"
  }
 },
 "nbformat": 4,
 "nbformat_minor": 2
}
